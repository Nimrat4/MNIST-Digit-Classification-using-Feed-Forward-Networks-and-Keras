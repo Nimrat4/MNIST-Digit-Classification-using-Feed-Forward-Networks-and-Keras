{
  "cells": [
    {
      "cell_type": "markdown",
      "metadata": {
        "id": "view-in-github",
        "colab_type": "text"
      },
      "source": [
        "<a href=\"https://colab.research.google.com/github/Nimrat4/MNIST-Digit-Classification-using-Feed-Forward-Networks-and-Keras/blob/main/Mnist_L1_DL.ipynb\" target=\"_parent\"><img src=\"https://colab.research.google.com/assets/colab-badge.svg\" alt=\"Open In Colab\"/></a>"
      ]
    },
    {
      "cell_type": "code",
      "execution_count": null,
      "metadata": {
        "id": "fzSNThVzv4Dd"
      },
      "outputs": [],
      "source": [
        "from sklearn.datasets import fetch_openml\n",
        "from sklearn.model_selection import train_test_split\n",
        "from sklearn.neural_network import MLPClassifier\n",
        "from sklearn.metrics import accuracy_score, precision_recall_fscore_support\n",
        "import matplotlib.pyplot as plt\n",
        "import numpy as np"
      ]
    },
    {
      "cell_type": "code",
      "execution_count": null,
      "metadata": {
        "id": "brfqhrsbxFTo"
      },
      "outputs": [],
      "source": [
        "(X_train_, y_train_), (X_test_, y_test_) = mnist.load_data()"
      ]
    },
    {
      "cell_type": "code",
      "execution_count": null,
      "metadata": {
        "colab": {
          "base_uri": "https://localhost:8080/"
        },
        "id": "lRann9I1xipU",
        "outputId": "3c19435c-f463-4108-e5c8-481943494815"
      },
      "outputs": [
        {
          "name": "stdout",
          "output_type": "stream",
          "text": [
            "Training set shape (images): (60000, 28, 28)\n",
            "Training set shape (labels): (60000,)\n",
            "Test set shape (images): (10000, 28, 28)\n",
            "Test set shape (labels): (10000,)\n"
          ]
        }
      ],
      "source": [
        "print(\"Training set shape (images):\", X_train_.shape)  # (60,000, 28, 28)\n",
        "print(\"Training set shape (labels):\", y_train_.shape)  # (60,000,)\n",
        "print(\"Test set shape (images):\", X_test_.shape)       # (10,000, 28, 28)\n",
        "print(\"Test set shape (labels):\", y_test_.shape)       # (10,000,)"
      ]
    },
    {
      "cell_type": "code",
      "execution_count": null,
      "metadata": {
        "id": "Jo-4th9R2BrM"
      },
      "outputs": [],
      "source": [
        "# Reshape images to (n_samples, 784)\n",
        "X_train_flat = X_train_.reshape(X_train_.shape[0], -1)\n",
        "X_test_flat = X_test_.reshape(X_test_.shape[0], -1)\n",
        "\n",
        "# Scale features to range [0, 1]\n",
        "X_train_scale = X_train_flat / 255.0\n",
        "X_test_scale = X_test_flat / 255.0"
      ]
    },
    {
      "cell_type": "code",
      "execution_count": null,
      "metadata": {
        "colab": {
          "base_uri": "https://localhost:8080/",
          "height": 473
        },
        "id": "_kAQkMZ62W1I",
        "outputId": "0a1f6c9f-a084-41f0-8783-b2f7d4bd4da7"
      },
      "outputs": [
        {
          "data": {
            "image/png": "[encoded data removed]",
            "text/plain": [
              "<Figure size 1000x500 with 10 Axes>"
            ]
          },
          "metadata": {},
          "output_type": "display_data"
        }
      ],
      "source": [
        "\n",
        "# Plot the first 10 images\n",
        "plt.figure(figsize=(10, 5))\n",
        "for i in range(10):\n",
        "    plt.subplot(2, 5, i + 1)\n",
        "    plt.imshow(X_train_[i], cmap=\"gray\")\n",
        "    plt.axis(\"off\")\n",
        "    plt.title(f\"Label: {y_train_[i]}\")\n",
        "plt.tight_layout()\n",
        "plt.show()"
      ]
    },
    {
      "cell_type": "code",
      "execution_count": null,
      "metadata": {
        "colab": {
          "base_uri": "https://localhost:8080/"
        },
        "id": "sqQ9xhYS26R8",
        "outputId": "dc979114-c672-4f9e-9fdb-dd9fc3eff39e"
      },
      "outputs": [
        {
          "name": "stdout",
          "output_type": "stream",
          "text": [
            "Training set shape: (48000, 784)\n",
            "Testing set shape: (12000, 784)\n"
          ]
        }
      ],
      "source": [
        "from sklearn.model_selection import train_test_split\n",
        "\n",
        "# Split into training and validation sets\n",
        "X_train, X_test, y_train, y_test = train_test_split(\n",
        "    X_train_scale, y_train_, test_size=0.2, random_state=42\n",
        ")\n",
        "\n",
        "print(\"Training set shape:\", X_train.shape)  # (48,000, 784)\n",
        "print(\"Testing set shape:\", X_test.shape)    # (12,000, 784)"
      ]
    },
    {
      "cell_type": "code",
      "execution_count": null,
      "metadata": {
        "colab": {
          "base_uri": "https://localhost:8080/",
          "height": 137
        },
        "id": "jn273jNy3InK",
        "outputId": "6c0cd2a8-9208-448f-da56-756f8757c9dd"
      },
      "outputs": [
        {
          "name": "stderr",
          "output_type": "stream",
          "text": [
            "/usr/local/lib/python3.11/dist-packages/sklearn/neural_network/_multilayer_perceptron.py:691: ConvergenceWarning: Stochastic Optimizer: Maximum iterations (10) reached and the optimization hasn't converged yet.\n",
            "  warnings.warn(\n"
          ]
        },
        {
          "data": {
            "text/html": [
              "<style>#sk-container-id-1 {\n",
              "  /* Definition of color scheme common for light and dark mode */\n",
              "  --sklearn-color-text: #000;\n",
              "  --sklearn-color-text-muted: #666;\n",
              "  --sklearn-color-line: gray;\n",
              "  /* Definition of color scheme for unfitted estimators */\n",
              "  --sklearn-color-unfitted-level-0: #fff5e6;\n",
              "  --sklearn-color-unfitted-level-1: #f6e4d2;\n",
              "  --sklearn-color-unfitted-level-2: #ffe0b3;\n",
              "  --sklearn-color-unfitted-level-3: chocolate;\n",
              "  /* Definition of color scheme for fitted estimators */\n",
              "  --sklearn-color-fitted-level-0: #f0f8ff;\n",
              "  --sklearn-color-fitted-level-1: #d4ebff;\n",
              "  --sklearn-color-fitted-level-2: #b3dbfd;\n",
              "  --sklearn-color-fitted-level-3: cornflowerblue;\n",
              "\n",
              "  /* Specific color for light theme */\n",
              "  --sklearn-color-text-on-default-background: var(--sg-text-color, var(--theme-code-foreground, var(--jp-content-font-color1, black)));\n",
              "  --sklearn-color-background: var(--sg-background-color, var(--theme-background, var(--jp-layout-color0, white)));\n",
              "  --sklearn-color-border-box: var(--sg-text-color, var(--theme-code-foreground, var(--jp-content-font-color1, black)));\n",
              "  --sklearn-color-icon: #696969;\n",
              "\n",
              "  @media (prefers-color-scheme: dark) {\n",
              "    /* Redefinition of color scheme for dark theme */\n",
              "    --sklearn-color-text-on-default-background: var(--sg-text-color, var(--theme-code-foreground, var(--jp-content-font-color1, white)));\n",
              "    --sklearn-color-background: var(--sg-background-color, var(--theme-background, var(--jp-layout-color0, #111)));\n",
              "    --sklearn-color-border-box: var(--sg-text-color, var(--theme-code-foreground, var(--jp-content-font-color1, white)));\n",
              "    --sklearn-color-icon: #878787;\n",
              "  }\n",
              "}\n",
              "\n",
              "#sk-container-id-1 {\n",
              "  color: var(--sklearn-color-text);\n",
              "}\n",
              "\n",
              "#sk-container-id-1 pre {\n",
              "  padding: 0;\n",
              "}\n",
              "\n",
              "#sk-container-id-1 input.sk-hidden--visually {\n",
              "  border: 0;\n",
              "  clip: rect(1px 1px 1px 1px);\n",
              "  clip: rect(1px, 1px, 1px, 1px);\n",
              "  height: 1px;\n",
              "  margin: -1px;\n",
              "  overflow: hidden;\n",
              "  padding: 0;\n",
              "  position: absolute;\n",
              "  width: 1px;\n",
              "}\n",
              "\n",
              "#sk-container-id-1 div.sk-dashed-wrapped {\n",
              "  border: 1px dashed var(--sklearn-color-line);\n",
              "  margin: 0 0.4em 0.5em 0.4em;\n",
              "  box-sizing: border-box;\n",
              "  padding-bottom: 0.4em;\n",
              "  background-color: var(--sklearn-color-background);\n",
              "}\n",
              "\n",
              "#sk-container-id-1 div.sk-container {\n",
              "  /* jupyter's `normalize.less` sets `[hidden] { display: none; }`\n",
              "     but bootstrap.min.css set `[hidden] { display: none !important; }`\n",
              "     so we also need the `!important` here to be able to override the\n",
              "     default hidden behavior on the sphinx rendered scikit-learn.org.\n",
              "     See: https://github.com/scikit-learn/scikit-learn/issues/21755 */\n",
              "  display: inline-block !important;\n",
              "  position: relative;\n",
              "}\n",
              "\n",
              "#sk-container-id-1 div.sk-text-repr-fallback {\n",
              "  display: none;\n",
              "}\n",
              "\n",
              "div.sk-parallel-item,\n",
              "div.sk-serial,\n",
              "div.sk-item {\n",
              "  /* draw centered vertical line to link estimators */\n",
              "  background-image: linear-gradient(var(--sklearn-color-text-on-default-background), var(--sklearn-color-text-on-default-background));\n",
              "  background-size: 2px 100%;\n",
              "  background-repeat: no-repeat;\n",
              "  background-position: center center;\n",
              "}\n",
              "\n",
              "/* Parallel-specific style estimator block */\n",
              "\n",
              "#sk-container-id-1 div.sk-parallel-item::after {\n",
              "  content: \"\";\n",
              "  width: 100%;\n",
              "  border-bottom: 2px solid var(--sklearn-color-text-on-default-background);\n",
              "  flex-grow: 1;\n",
              "}\n",
              "\n",
              "#sk-container-id-1 div.sk-parallel {\n",
              "  display: flex;\n",
              "  align-items: stretch;\n",
              "  justify-content: center;\n",
              "  background-color: var(--sklearn-color-background);\n",
              "  position: relative;\n",
              "}\n",
              "\n",
              "#sk-container-id-1 div.sk-parallel-item {\n",
              "  display: flex;\n",
              "  flex-direction: column;\n",
              "}\n",
              "\n",
              "#sk-container-id-1 div.sk-parallel-item:first-child::after {\n",
              "  align-self: flex-end;\n",
              "  width: 50%;\n",
              "}\n",
              "\n",
              "#sk-container-id-1 div.sk-parallel-item:last-child::after {\n",
              "  align-self: flex-start;\n",
              "  width: 50%;\n",
              "}\n",
              "\n",
              "#sk-container-id-1 div.sk-parallel-item:only-child::after {\n",
              "  width: 0;\n",
              "}\n",
              "\n",
              "/* Serial-specific style estimator block */\n",
              "\n",
              "#sk-container-id-1 div.sk-serial {\n",
              "  display: flex;\n",
              "  flex-direction: column;\n",
              "  align-items: center;\n",
              "  background-color: var(--sklearn-color-background);\n",
              "  padding-right: 1em;\n",
              "  padding-left: 1em;\n",
              "}\n",
              "\n",
              "\n",
              "/* Toggleable style: style used for estimator/Pipeline/ColumnTransformer box that is\n",
              "clickable and can be expanded/collapsed.\n",
              "- Pipeline and ColumnTransformer use this feature and define the default style\n",
              "- Estimators will overwrite some part of the style using the `sk-estimator` class\n",
              "*/\n",
              "\n",
              "/* Pipeline and ColumnTransformer style (default) */\n",
              "\n",
              "#sk-container-id-1 div.sk-toggleable {\n",
              "  /* Default theme specific background. It is overwritten whether we have a\n",
              "  specific estimator or a Pipeline/ColumnTransformer */\n",
              "  background-color: var(--sklearn-color-background);\n",
              "}\n",
              "\n",
              "/* Toggleable label */\n",
              "#sk-container-id-1 label.sk-toggleable__label {\n",
              "  cursor: pointer;\n",
              "  display: flex;\n",
              "  width: 100%;\n",
              "  margin-bottom: 0;\n",
              "  padding: 0.5em;\n",
              "  box-sizing: border-box;\n",
              "  text-align: center;\n",
              "  align-items: start;\n",
              "  justify-content: space-between;\n",
              "  gap: 0.5em;\n",
              "}\n",
              "\n",
              "#sk-container-id-1 label.sk-toggleable__label .caption {\n",
              "  font-size: 0.6rem;\n",
              "  font-weight: lighter;\n",
              "  color: var(--sklearn-color-text-muted);\n",
              "}\n",
              "\n",
              "#sk-container-id-1 label.sk-toggleable__label-arrow:before {\n",
              "  /* Arrow on the left of the label */\n",
              "  content: \"▸\";\n",
              "  float: left;\n",
              "  margin-right: 0.25em;\n",
              "  color: var(--sklearn-color-icon);\n",
              "}\n",
              "\n",
              "#sk-container-id-1 label.sk-toggleable__label-arrow:hover:before {\n",
              "  color: var(--sklearn-color-text);\n",
              "}\n",
              "\n",
              "/* Toggleable content - dropdown */\n",
              "\n",
              "#sk-container-id-1 div.sk-toggleable__content {\n",
              "  max-height: 0;\n",
              "  max-width: 0;\n",
              "  overflow: hidden;\n",
              "  text-align: left;\n",
              "  /* unfitted */\n",
              "  background-color: var(--sklearn-color-unfitted-level-0);\n",
              "}\n",
              "\n",
              "#sk-container-id-1 div.sk-toggleable__content.fitted {\n",
              "  /* fitted */\n",
              "  background-color: var(--sklearn-color-fitted-level-0);\n",
              "}\n",
              "\n",
              "#sk-container-id-1 div.sk-toggleable__content pre {\n",
              "  margin: 0.2em;\n",
              "  border-radius: 0.25em;\n",
              "  color: var(--sklearn-color-text);\n",
              "  /* unfitted */\n",
              "  background-color: var(--sklearn-color-unfitted-level-0);\n",
              "}\n",
              "\n",
              "#sk-container-id-1 div.sk-toggleable__content.fitted pre {\n",
              "  /* unfitted */\n",
              "  background-color: var(--sklearn-color-fitted-level-0);\n",
              "}\n",
              "\n",
              "#sk-container-id-1 input.sk-toggleable__control:checked~div.sk-toggleable__content {\n",
              "  /* Expand drop-down */\n",
              "  max-height: 200px;\n",
              "  max-width: 100%;\n",
              "  overflow: auto;\n",
              "}\n",
              "\n",
              "#sk-container-id-1 input.sk-toggleable__control:checked~label.sk-toggleable__label-arrow:before {\n",
              "  content: \"▾\";\n",
              "}\n",
              "\n",
              "/* Pipeline/ColumnTransformer-specific style */\n",
              "\n",
              "#sk-container-id-1 div.sk-label input.sk-toggleable__control:checked~label.sk-toggleable__label {\n",
              "  color: var(--sklearn-color-text);\n",
              "  background-color: var(--sklearn-color-unfitted-level-2);\n",
              "}\n",
              "\n",
              "#sk-container-id-1 div.sk-label.fitted input.sk-toggleable__control:checked~label.sk-toggleable__label {\n",
              "  background-color: var(--sklearn-color-fitted-level-2);\n",
              "}\n",
              "\n",
              "/* Estimator-specific style */\n",
              "\n",
              "/* Colorize estimator box */\n",
              "#sk-container-id-1 div.sk-estimator input.sk-toggleable__control:checked~label.sk-toggleable__label {\n",
              "  /* unfitted */\n",
              "  background-color: var(--sklearn-color-unfitted-level-2);\n",
              "}\n",
              "\n",
              "#sk-container-id-1 div.sk-estimator.fitted input.sk-toggleable__control:checked~label.sk-toggleable__label {\n",
              "  /* fitted */\n",
              "  background-color: var(--sklearn-color-fitted-level-2);\n",
              "}\n",
              "\n",
              "#sk-container-id-1 div.sk-label label.sk-toggleable__label,\n",
              "#sk-container-id-1 div.sk-label label {\n",
              "  /* The background is the default theme color */\n",
              "  color: var(--sklearn-color-text-on-default-background);\n",
              "}\n",
              "\n",
              "/* On hover, darken the color of the background */\n",
              "#sk-container-id-1 div.sk-label:hover label.sk-toggleable__label {\n",
              "  color: var(--sklearn-color-text);\n",
              "  background-color: var(--sklearn-color-unfitted-level-2);\n",
              "}\n",
              "\n",
              "/* Label box, darken color on hover, fitted */\n",
              "#sk-container-id-1 div.sk-label.fitted:hover label.sk-toggleable__label.fitted {\n",
              "  color: var(--sklearn-color-text);\n",
              "  background-color: var(--sklearn-color-fitted-level-2);\n",
              "}\n",
              "\n",
              "/* Estimator label */\n",
              "\n",
              "#sk-container-id-1 div.sk-label label {\n",
              "  font-family: monospace;\n",
              "  font-weight: bold;\n",
              "  display: inline-block;\n",
              "  line-height: 1.2em;\n",
              "}\n",
              "\n",
              "#sk-container-id-1 div.sk-label-container {\n",
              "  text-align: center;\n",
              "}\n",
              "\n",
              "/* Estimator-specific */\n",
              "#sk-container-id-1 div.sk-estimator {\n",
              "  font-family: monospace;\n",
              "  border: 1px dotted var(--sklearn-color-border-box);\n",
              "  border-radius: 0.25em;\n",
              "  box-sizing: border-box;\n",
              "  margin-bottom: 0.5em;\n",
              "  /* unfitted */\n",
              "  background-color: var(--sklearn-color-unfitted-level-0);\n",
              "}\n",
              "\n",
              "#sk-container-id-1 div.sk-estimator.fitted {\n",
              "  /* fitted */\n",
              "  background-color: var(--sklearn-color-fitted-level-0);\n",
              "}\n",
              "\n",
              "/* on hover */\n",
              "#sk-container-id-1 div.sk-estimator:hover {\n",
              "  /* unfitted */\n",
              "  background-color: var(--sklearn-color-unfitted-level-2);\n",
              "}\n",
              "\n",
              "#sk-container-id-1 div.sk-estimator.fitted:hover {\n",
              "  /* fitted */\n",
              "  background-color: var(--sklearn-color-fitted-level-2);\n",
              "}\n",
              "\n",
              "/* Specification for estimator info (e.g. \"i\" and \"?\") */\n",
              "\n",
              "/* Common style for \"i\" and \"?\" */\n",
              "\n",
              ".sk-estimator-doc-link,\n",
              "a:link.sk-estimator-doc-link,\n",
              "a:visited.sk-estimator-doc-link {\n",
              "  float: right;\n",
              "  font-size: smaller;\n",
              "  line-height: 1em;\n",
              "  font-family: monospace;\n",
              "  background-color: var(--sklearn-color-background);\n",
              "  border-radius: 1em;\n",
              "  height: 1em;\n",
              "  width: 1em;\n",
              "  text-decoration: none !important;\n",
              "  margin-left: 0.5em;\n",
              "  text-align: center;\n",
              "  /* unfitted */\n",
              "  border: var(--sklearn-color-unfitted-level-1) 1pt solid;\n",
              "  color: var(--sklearn-color-unfitted-level-1);\n",
              "}\n",
              "\n",
              ".sk-estimator-doc-link.fitted,\n",
              "a:link.sk-estimator-doc-link.fitted,\n",
              "a:visited.sk-estimator-doc-link.fitted {\n",
              "  /* fitted */\n",
              "  border: var(--sklearn-color-fitted-level-1) 1pt solid;\n",
              "  color: var(--sklearn-color-fitted-level-1);\n",
              "}\n",
              "\n",
              "/* On hover */\n",
              "div.sk-estimator:hover .sk-estimator-doc-link:hover,\n",
              ".sk-estimator-doc-link:hover,\n",
              "div.sk-label-container:hover .sk-estimator-doc-link:hover,\n",
              ".sk-estimator-doc-link:hover {\n",
              "  /* unfitted */\n",
              "  background-color: var(--sklearn-color-unfitted-level-3);\n",
              "  color: var(--sklearn-color-background);\n",
              "  text-decoration: none;\n",
              "}\n",
              "\n",
              "div.sk-estimator.fitted:hover .sk-estimator-doc-link.fitted:hover,\n",
              ".sk-estimator-doc-link.fitted:hover,\n",
              "div.sk-label-container:hover .sk-estimator-doc-link.fitted:hover,\n",
              ".sk-estimator-doc-link.fitted:hover {\n",
              "  /* fitted */\n",
              "  background-color: var(--sklearn-color-fitted-level-3);\n",
              "  color: var(--sklearn-color-background);\n",
              "  text-decoration: none;\n",
              "}\n",
              "\n",
              "/* Span, style for the box shown on hovering the info icon */\n",
              ".sk-estimator-doc-link span {\n",
              "  display: none;\n",
              "  z-index: 9999;\n",
              "  position: relative;\n",
              "  font-weight: normal;\n",
              "  right: .2ex;\n",
              "  padding: .5ex;\n",
              "  margin: .5ex;\n",
              "  width: min-content;\n",
              "  min-width: 20ex;\n",
              "  max-width: 50ex;\n",
              "  color: var(--sklearn-color-text);\n",
              "  box-shadow: 2pt 2pt 4pt #999;\n",
              "  /* unfitted */\n",
              "  background: var(--sklearn-color-unfitted-level-0);\n",
              "  border: .5pt solid var(--sklearn-color-unfitted-level-3);\n",
              "}\n",
              "\n",
              ".sk-estimator-doc-link.fitted span {\n",
              "  /* fitted */\n",
              "  background: var(--sklearn-color-fitted-level-0);\n",
              "  border: var(--sklearn-color-fitted-level-3);\n",
              "}\n",
              "\n",
              ".sk-estimator-doc-link:hover span {\n",
              "  display: block;\n",
              "}\n",
              "\n",
              "/* \"?\"-specific style due to the `<a>` HTML tag */\n",
              "\n",
              "#sk-container-id-1 a.estimator_doc_link {\n",
              "  float: right;\n",
              "  font-size: 1rem;\n",
              "  line-height: 1em;\n",
              "  font-family: monospace;\n",
              "  background-color: var(--sklearn-color-background);\n",
              "  border-radius: 1rem;\n",
              "  height: 1rem;\n",
              "  width: 1rem;\n",
              "  text-decoration: none;\n",
              "  /* unfitted */\n",
              "  color: var(--sklearn-color-unfitted-level-1);\n",
              "  border: var(--sklearn-color-unfitted-level-1) 1pt solid;\n",
              "}\n",
              "\n",
              "#sk-container-id-1 a.estimator_doc_link.fitted {\n",
              "  /* fitted */\n",
              "  border: var(--sklearn-color-fitted-level-1) 1pt solid;\n",
              "  color: var(--sklearn-color-fitted-level-1);\n",
              "}\n",
              "\n",
              "/* On hover */\n",
              "#sk-container-id-1 a.estimator_doc_link:hover {\n",
              "  /* unfitted */\n",
              "  background-color: var(--sklearn-color-unfitted-level-3);\n",
              "  color: var(--sklearn-color-background);\n",
              "  text-decoration: none;\n",
              "}\n",
              "\n",
              "#sk-container-id-1 a.estimator_doc_link.fitted:hover {\n",
              "  /* fitted */\n",
              "  background-color: var(--sklearn-color-fitted-level-3);\n",
              "}\n",
              "</style><div id=\"sk-container-id-1\" class=\"sk-top-container\"><div class=\"sk-text-repr-fallback\"><pre>MLPClassifier(hidden_layer_sizes=(64,), max_iter=10, random_state=42)</pre><b>In a Jupyter environment, please rerun this cell to show the HTML representation or trust the notebook. <br />On GitHub, the HTML representation is unable to render, please try loading this page with nbviewer.org.</b></div><div class=\"sk-container\" hidden><div class=\"sk-item\"><div class=\"sk-estimator fitted sk-toggleable\"><input class=\"sk-toggleable__control sk-hidden--visually\" id=\"sk-estimator-id-1\" type=\"checkbox\" checked><label for=\"sk-estimator-id-1\" class=\"sk-toggleable__label fitted sk-toggleable__label-arrow\"><div><div>MLPClassifier</div></div><div><a class=\"sk-estimator-doc-link fitted\" rel=\"noreferrer\" target=\"_blank\" href=\"https://scikit-learn.org/1.6/modules/generated/sklearn.neural_network.MLPClassifier.html\">?<span>Documentation for MLPClassifier</span></a><span class=\"sk-estimator-doc-link fitted\">i<span>Fitted</span></span></div></label><div class=\"sk-toggleable__content fitted\"><pre>MLPClassifier(hidden_layer_sizes=(64,), max_iter=10, random_state=42)</pre></div> </div></div></div></div>"
            ],
            "text/plain": [
              "MLPClassifier(hidden_layer_sizes=(64,), max_iter=10, random_state=42)"
            ]
          },
          "execution_count": 18,
          "metadata": {},
          "output_type": "execute_result"
        }
      ],
      "source": [
        "from sklearn.neural_network import MLPClassifier\n",
        "\n",
        "# Define and train the model\n",
        "mlp = MLPClassifier(hidden_layer_sizes=(64,), max_iter=10, random_state=42)\n",
        "mlp.fit(X_train, y_train)"
      ]
    },
    {
      "cell_type": "code",
      "execution_count": null,
      "metadata": {
        "colab": {
          "base_uri": "https://localhost:8080/"
        },
        "id": "B8KqMzpm3PFx",
        "outputId": "ca6ca399-ec56-47b0-b95c-c4f5e8d1dce0"
      },
      "outputs": [
        {
          "name": "stdout",
          "output_type": "stream",
          "text": [
            "Accuracy: 0.9678333333333333\n",
            "Precision: 0.9679264036838678\n",
            "Recall: 0.9678333333333333\n",
            "F1 Score: 0.9678320892918264\n"
          ]
        }
      ],
      "source": [
        "from sklearn.metrics import accuracy_score, precision_recall_fscore_support\n",
        "\n",
        "# Predict on the test set\n",
        "y_pred = mlp.predict(X_test)\n",
        "\n",
        "# Calculate accuracy\n",
        "accuracy = accuracy_score(y_test, y_pred)\n",
        "print(\"Accuracy:\", accuracy)\n",
        "\n",
        "# Calculate precision, recall, and F1-score\n",
        "precision, recall, f1, _ = precision_recall_fscore_support(y_test, y_pred, average=\"weighted\")\n",
        "print(\"Precision:\", precision)\n",
        "print(\"Recall:\", recall)\n",
        "print(\"F1 Score:\", f1)"
      ]
    },
    {
      "cell_type": "code",
      "execution_count": null,
      "metadata": {
        "colab": {
          "base_uri": "https://localhost:8080/",
          "height": 638
        },
        "id": "2maTvR8m3V3X",
        "outputId": "b7ba6c68-dc5b-435f-f938-0394e38b4d53"
      },
      "outputs": [
        {
          "name": "stderr",
          "output_type": "stream",
          "text": [
            "/usr/local/lib/python3.11/dist-packages/sklearn/neural_network/_multilayer_perceptron.py:691: ConvergenceWarning: Stochastic Optimizer: Maximum iterations (10) reached and the optimization hasn't converged yet.\n",
            "  warnings.warn(\n",
            "/usr/local/lib/python3.11/dist-packages/sklearn/neural_network/_multilayer_perceptron.py:691: ConvergenceWarning: Stochastic Optimizer: Maximum iterations (10) reached and the optimization hasn't converged yet.\n",
            "  warnings.warn(\n",
            "/usr/local/lib/python3.11/dist-packages/sklearn/neural_network/_multilayer_perceptron.py:691: ConvergenceWarning: Stochastic Optimizer: Maximum iterations (10) reached and the optimization hasn't converged yet.\n",
            "  warnings.warn(\n",
            "/usr/local/lib/python3.11/dist-packages/sklearn/neural_network/_multilayer_perceptron.py:691: ConvergenceWarning: Stochastic Optimizer: Maximum iterations (10) reached and the optimization hasn't converged yet.\n",
            "  warnings.warn(\n"
          ]
        },
        {
          "data": {
            "image/png": "[encoded data removed]",
            "text/plain": [
              "<Figure size 640x480 with 1 Axes>"
            ]
          },
          "metadata": {},
          "output_type": "display_data"
        }
      ],
      "source": [
        "splits = [0.6, 0.75, 0.8, 0.9]\n",
        "accuracies = []\n",
        "\n",
        "for split in splits:\n",
        "    X_train, X_test, y_train, y_test = train_test_split(\n",
        "        X_train_scale, y_train_, test_size=1-split, random_state=42\n",
        "    )\n",
        "    mlp.fit(X_train, y_train)\n",
        "    y_pred = mlp.predict(X_test)\n",
        "    accuracies.append(accuracy_score(y_test, y_pred))\n",
        "\n",
        "# Plot accuracy vs train-test split\n",
        "plt.plot(splits, accuracies, marker=\"o\")\n",
        "plt.xlabel(\"Train-Test Split Ratio\")\n",
        "plt.ylabel(\"Accuracy\")\n",
        "plt.title(\"Accuracy vs Train-Test Split\")\n",
        "plt.grid()\n",
        "plt.show()"
      ]
    },
    {
      "cell_type": "code",
      "execution_count": null,
      "metadata": {
        "colab": {
          "base_uri": "https://localhost:8080/",
          "height": 565
        },
        "id": "Mjk2a1Pl4Pon",
        "outputId": "6ccf52d8-e85f-4af3-be6e-c4b9ba7b259b"
      },
      "outputs": [
        {
          "name": "stderr",
          "output_type": "stream",
          "text": [
            "/usr/local/lib/python3.11/dist-packages/sklearn/neural_network/_multilayer_perceptron.py:691: ConvergenceWarning: Stochastic Optimizer: Maximum iterations (20) reached and the optimization hasn't converged yet.\n",
            "  warnings.warn(\n",
            "/usr/local/lib/python3.11/dist-packages/sklearn/neural_network/_multilayer_perceptron.py:691: ConvergenceWarning: Stochastic Optimizer: Maximum iterations (50) reached and the optimization hasn't converged yet.\n",
            "  warnings.warn(\n"
          ]
        },
        {
          "data": {
            "image/png": "[encoded data removed]",
            "text/plain": [
              "<Figure size 640x480 with 1 Axes>"
            ]
          },
          "metadata": {},
          "output_type": "display_data"
        }
      ],
      "source": [
        "iterations = [20, 50, 100, 150, 200]\n",
        "iteration_accuracies = []\n",
        "\n",
        "for iters in iterations:\n",
        "    mlp = MLPClassifier(hidden_layer_sizes=(64,), max_iter=iters, random_state=42)\n",
        "    mlp.fit(X_train, y_train)\n",
        "    y_pred = mlp.predict(X_test)\n",
        "    iteration_accuracies.append(accuracy_score(y_test, y_pred))\n",
        "\n",
        "# Plot accuracy vs number of iterations\n",
        "plt.plot(iterations, iteration_accuracies, marker=\"o\", color=\"green\")\n",
        "plt.xlabel(\"Number of Iterations\")\n",
        "plt.ylabel(\"Accuracy\")\n",
        "plt.title(\"Accuracy vs Number of Iterations\")\n",
        "plt.grid()\n",
        "plt.show()"
      ]
    },
    {
      "cell_type": "code",
      "execution_count": null,
      "metadata": {
        "id": "uuL-V8sA5dE1"
      },
      "outputs": [],
      "source": [
        "#PART2"
      ]
    },
    {
      "cell_type": "code",
      "execution_count": null,
      "metadata": {
        "colab": {
          "base_uri": "https://localhost:8080/"
        },
        "id": "lekFo7B_5gtV",
        "outputId": "f3347fdd-1fe1-4291-fbbd-1acffc778c44"
      },
      "outputs": [
        {
          "output_type": "stream",
          "name": "stdout",
          "text": [
            "Downloading data from https://storage.googleapis.com/tensorflow/tf-keras-datasets/mnist.npz\n",
            "\u001b[1m11490434/11490434\u001b[0m \u001b[32m━━━━━━━━━━━━━━━━━━━━\u001b[0m\u001b[37m\u001b[0m \u001b[1m0s\u001b[0m 0us/step\n"
          ]
        },
        {
          "output_type": "stream",
          "name": "stderr",
          "text": [
            "/usr/local/lib/python3.11/dist-packages/keras/src/layers/reshaping/flatten.py:37: UserWarning: Do not pass an `input_shape`/`input_dim` argument to a layer. When using Sequential models, prefer using an `Input(shape)` object as the first layer in the model instead.\n",
            "  super().__init__(**kwargs)\n"
          ]
        },
        {
          "output_type": "stream",
          "name": "stdout",
          "text": [
            "Nodes: 4\n",
            "Train Accuracy: 0.8503, Test Accuracy: 0.8451\n",
            "Parameters: 3190\n",
            "Training Time: 48.78 seconds\n",
            "Nodes: 32\n",
            "Train Accuracy: 0.9786, Test Accuracy: 0.9640\n",
            "Parameters: 25450\n",
            "Training Time: 31.58 seconds\n",
            "Nodes: 64\n",
            "Train Accuracy: 0.9910, Test Accuracy: 0.9764\n",
            "Parameters: 50890\n",
            "Training Time: 29.61 seconds\n",
            "Nodes: 128\n",
            "Train Accuracy: 0.9952, Test Accuracy: 0.9780\n",
            "Parameters: 101770\n",
            "Training Time: 34.10 seconds\n",
            "Nodes: 512\n",
            "Train Accuracy: 0.9966, Test Accuracy: 0.9782\n",
            "Parameters: 407050\n",
            "Training Time: 32.11 seconds\n",
            "Nodes: 2056\n",
            "Train Accuracy: 0.9956, Test Accuracy: 0.9794\n",
            "Parameters: 1634530\n",
            "Training Time: 41.99 seconds\n"
          ]
        }
      ],
      "source": [
        "import tensorflow as tf\n",
        "from tensorflow.keras.models import Sequential\n",
        "from tensorflow.keras.layers import Dense, Flatten\n",
        "from tensorflow.keras.optimizers import Adam\n",
        "from time import time\n",
        "\n",
        "# Define the number of nodes to test\n",
        "node_configs = [4, 32, 64, 128, 512, 2056]\n",
        "\n",
        "# Prepare data\n",
        "(X_train, y_train), (X_test, y_test) = tf.keras.datasets.mnist.load_data()\n",
        "X_train, X_test = X_train / 255.0, X_test / 255.0\n",
        "\n",
        "# Flatten the labels\n",
        "y_train = tf.keras.utils.to_categorical(y_train, num_classes=10)\n",
        "y_test = tf.keras.utils.to_categorical(y_test, num_classes=10)\n",
        "\n",
        "# Loop through each node configuration\n",
        "for nodes in node_configs:\n",
        "    # Build the model\n",
        "    model = Sequential([\n",
        "        Flatten(input_shape=(28, 28)),\n",
        "        Dense(nodes, activation=\"relu\"),\n",
        "        Dense(10, activation=\"softmax\")\n",
        "    ])\n",
        "\n",
        "    # Compile the model\n",
        "    model.compile(optimizer=Adam(), loss=\"categorical_crossentropy\", metrics=[\"accuracy\"])\n",
        "\n",
        "    # Measure training time\n",
        "    start_time = time()\n",
        "    history = model.fit(X_train, y_train, epochs=10, batch_size=32, verbose=0)\n",
        "    end_time = time()\n",
        "\n",
        "    # Evaluate the model\n",
        "    train_acc = history.history[\"accuracy\"][-1]\n",
        "    test_acc = model.evaluate(X_test, y_test, verbose=0)[1]\n",
        "    params = model.count_params()\n",
        "\n",
        "    # Print results\n",
        "    print(f\"Nodes: {nodes}\")\n",
        "    print(f\"Train Accuracy: {train_acc:.4f}, Test Accuracy: {test_acc:.4f}\")\n",
        "    print(f\"Parameters: {params}\")\n",
        "    print(f\"Training Time: {end_time - start_time:.2f} seconds\")\n",
        "\n",
        "\n"
      ]
    },
    {
      "cell_type": "code",
      "execution_count": null,
      "metadata": {
        "colab": {
          "base_uri": "https://localhost:8080/"
        },
        "id": "Ya9wkm0-7Yrt",
        "outputId": "6423ef34-6759-4a37-d06a-533280d94b01"
      },
      "outputs": [
        {
          "output_type": "stream",
          "name": "stdout",
          "text": [
            "Layers: 4\n",
            "10 Epochs -> Train Accuracy: 0.9893, Test Accuracy: 0.9735\n",
            "30 Epochs -> Train Accuracy: 0.9969, Test Accuracy: 0.9755\n",
            "Training Time (10 Epochs): 47.51 seconds\n",
            "Training Time (30 Epochs): 126.13 seconds\n",
            "Layers: 5\n",
            "10 Epochs -> Train Accuracy: 0.9882, Test Accuracy: 0.9755\n",
            "30 Epochs -> Train Accuracy: 0.9962, Test Accuracy: 0.9759\n",
            "Training Time (10 Epochs): 48.31 seconds\n",
            "Training Time (30 Epochs): 119.67 seconds\n",
            "Layers: 6\n",
            "10 Epochs -> Train Accuracy: 0.9868, Test Accuracy: 0.9652\n",
            "30 Epochs -> Train Accuracy: 0.9960, Test Accuracy: 0.9735\n",
            "Training Time (10 Epochs): 45.54 seconds\n",
            "Training Time (30 Epochs): 122.43 seconds\n",
            "Layers: 8\n",
            "10 Epochs -> Train Accuracy: 0.9855, Test Accuracy: 0.9748\n",
            "30 Epochs -> Train Accuracy: 0.9960, Test Accuracy: 0.9717\n",
            "Training Time (10 Epochs): 43.94 seconds\n",
            "Training Time (30 Epochs): 129.61 seconds\n",
            "Layers: 16\n",
            "10 Epochs -> Train Accuracy: 0.9769, Test Accuracy: 0.9712\n",
            "30 Epochs -> Train Accuracy: 0.9905, Test Accuracy: 0.9745\n",
            "Training Time (10 Epochs): 61.54 seconds\n",
            "Training Time (30 Epochs): 171.94 seconds\n"
          ]
        }
      ],
      "source": [
        "\n",
        "layer_configs = [4, 5, 6, 8, 16]\n",
        "\n",
        "for layers in layer_configs:\n",
        "    # Build the model\n",
        "    model = Sequential([Flatten(input_shape=(28, 28))])\n",
        "    for _ in range(layers):\n",
        "        model.add(Dense(64, activation=\"relu\"))\n",
        "    model.add(Dense(10, activation=\"softmax\"))\n",
        "\n",
        "    # Compile the model\n",
        "    model.compile(optimizer=Adam(), loss=\"categorical_crossentropy\", metrics=[\"accuracy\"])\n",
        "\n",
        "    # Measure training time for 10 epochs\n",
        "    start_time = time()\n",
        "    history = model.fit(X_train, y_train, epochs=10, batch_size=32, verbose=0)\n",
        "    end_time = time()\n",
        "\n",
        "    # Evaluate for 10 epochs\n",
        "    train_acc_10 = history.history[\"accuracy\"][-1]\n",
        "    test_acc_10 = model.evaluate(X_test, y_test, verbose=0)[1]\n",
        "\n",
        "    # Train for 30 epochs\n",
        "    start_time_30 = time()\n",
        "    history_30 = model.fit(X_train, y_train, epochs=30, batch_size=32, verbose=0)\n",
        "    end_time_30 = time()\n",
        "\n",
        "    # Evaluate for 30 epochs\n",
        "    train_acc_30 = history_30.history[\"accuracy\"][-1]\n",
        "    test_acc_30 = model.evaluate(X_test, y_test, verbose=0)[1]\n",
        "\n",
        "    # Print results\n",
        "    print(f\"Layers: {layers}\")\n",
        "    print(f\"10 Epochs -> Train Accuracy: {train_acc_10:.4f}, Test Accuracy: {test_acc_10:.4f}\")\n",
        "    print(f\"30 Epochs -> Train Accuracy: {train_acc_30:.4f}, Test Accuracy: {test_acc_30:.4f}\")\n",
        "    print(f\"Training Time (10 Epochs): {end_time - start_time:.2f} seconds\")\n",
        "    print(f\"Training Time (30 Epochs): {end_time_30 - start_time_30:.2f} seconds\")"
      ]
    },
    {
      "cell_type": "code",
      "execution_count": null,
      "metadata": {
        "id": "VT7xOjJA-r0r",
        "colab": {
          "base_uri": "https://localhost:8080/"
        },
        "outputId": "e89bab61-9ff1-4f61-b2eb-74c2e14b932c"
      },
      "outputs": [
        {
          "output_type": "stream",
          "name": "stdout",
          "text": [
            "Config: [256, 128, 64, 32]\n",
            "Train Accuracy: 0.9931, Test Accuracy: 0.9791\n",
            "Parameters: 244522\n",
            "Training Time: 48.14 seconds\n",
            "----------------------------------------\n",
            "Config: [128, 512, 128, 64]\n",
            "Train Accuracy: 0.9915, Test Accuracy: 0.9803\n",
            "Parameters: 241098\n",
            "Training Time: 47.95 seconds\n",
            "----------------------------------------\n",
            "Config: [64, 128, 64, 128]\n",
            "Train Accuracy: 0.9893, Test Accuracy: 0.9726\n",
            "Parameters: 76426\n",
            "Training Time: 40.71 seconds\n",
            "----------------------------------------\n",
            "Config: [64, 32, 4, 32, 64]\n",
            "Train Accuracy: 0.9818, Test Accuracy: 0.9636\n",
            "Parameters: 55374\n",
            "Training Time: 49.83 seconds\n",
            "----------------------------------------\n"
          ]
        }
      ],
      "source": [
        "configs = [\n",
        "    [256, 128, 64, 32],  # a)\n",
        "    [128, 512, 128, 64],  # b)\n",
        "    [64, 128, 64, 128],  # c)\n",
        "    [64, 32, 4, 32, 64] # d)\n",
        "]\n",
        "\n",
        "for config in configs:\n",
        "    # Build the model\n",
        "    model = Sequential([Flatten(input_shape=(28, 28))])\n",
        "    for nodes in config:\n",
        "        model.add(Dense(nodes, activation=\"relu\"))\n",
        "    model.add(Dense(10, activation=\"softmax\"))\n",
        "\n",
        "    # Compile the model\n",
        "    model.compile(optimizer=Adam(), loss=\"categorical_crossentropy\", metrics=[\"accuracy\"])\n",
        "\n",
        "    # Train and measure time\n",
        "    start_time = time()\n",
        "    history = model.fit(X_train, y_train, epochs=10, batch_size=32, verbose=0)\n",
        "    end_time = time()\n",
        "\n",
        "    # Evaluate\n",
        "    train_acc = history.history[\"accuracy\"][-1]\n",
        "    test_acc = model.evaluate(X_test, y_test, verbose=0)[1]\n",
        "    params = model.count_params()\n",
        "\n",
        "    # Print results\n",
        "    print(f\"Config: {config}\")\n",
        "    print(f\"Train Accuracy: {train_acc:.4f}, Test Accuracy: {test_acc:.4f}\")\n",
        "    print(f\"Parameters: {params}\")\n",
        "    print(f\"Training Time: {end_time - start_time:.2f} seconds\")\n",
        "    print(\"-\" * 40)"
      ]
    },
    {
      "cell_type": "code",
      "execution_count": null,
      "metadata": {
        "id": "6mmgtbHP-r4O",
        "colab": {
          "base_uri": "https://localhost:8080/"
        },
        "outputId": "26f1b810-79af-466b-d425-b346ce3e9a38"
      },
      "outputs": [
        {
          "output_type": "stream",
          "name": "stdout",
          "text": [
            "4 Hidden Layers (256 Nodes Each)\n",
            "Train Accuracy: 0.9923, Test Accuracy: 0.9804\n",
            "Parameters: 400906\n",
            "Training Time: 50.98 seconds\n",
            "----------------------------------------\n"
          ]
        }
      ],
      "source": [
        "# Build and train the model with 4 hidden layers, 256 nodes each\n",
        "model = Sequential([\n",
        "    Flatten(input_shape=(28, 28)),\n",
        "    Dense(256, activation=\"relu\"),\n",
        "    Dense(256, activation=\"relu\"),\n",
        "    Dense(256, activation=\"relu\"),\n",
        "    Dense(256, activation=\"relu\"),\n",
        "    Dense(10, activation=\"softmax\")\n",
        "])\n",
        "\n",
        "# Compile the model\n",
        "model.compile(optimizer=Adam(), loss=\"categorical_crossentropy\", metrics=[\"accuracy\"])\n",
        "\n",
        "# Train and measure time\n",
        "start_time = time()\n",
        "history = model.fit(X_train, y_train, epochs=10, batch_size=32, verbose=0)\n",
        "end_time = time()\n",
        "\n",
        "# Evaluate the model\n",
        "train_acc = history.history[\"accuracy\"][-1]\n",
        "test_acc = model.evaluate(X_test, y_test, verbose=0)[1]\n",
        "\n",
        "# Print results\n",
        "print(\"4 Hidden Layers (256 Nodes Each)\")\n",
        "print(f\"Train Accuracy: {train_acc:.4f}, Test Accuracy: {test_acc:.4f}\")\n",
        "print(f\"Parameters: {model.count_params()}\")\n",
        "print(f\"Training Time: {end_time - start_time:.2f} seconds\")\n",
        "print(\"-\" * 40)"
      ]
    },
    {
      "cell_type": "code",
      "execution_count": null,
      "metadata": {
        "id": "0ChI-7k5-sAh",
        "colab": {
          "base_uri": "https://localhost:8080/"
        },
        "outputId": "77e8fc14-341a-4850-bb26-2663a56b8508"
      },
      "outputs": [
        {
          "output_type": "stream",
          "name": "stdout",
          "text": [
            "Train-Test Split: 60-40\n",
            "Train Accuracy: 0.9956, Test Accuracy: 0.9689\n",
            "Training Time: 24.22 seconds\n",
            "----------------------------------------\n",
            "Train-Test Split: 70-30\n",
            "Train Accuracy: 0.9955, Test Accuracy: 0.9733\n",
            "Training Time: 28.65 seconds\n",
            "----------------------------------------\n",
            "Train-Test Split: 80-19\n",
            "Train Accuracy: 0.9944, Test Accuracy: 0.9767\n",
            "Training Time: 27.96 seconds\n",
            "----------------------------------------\n",
            "Train-Test Split: 90-9\n",
            "Train Accuracy: 0.9955, Test Accuracy: 0.9805\n",
            "Training Time: 31.83 seconds\n",
            "----------------------------------------\n"
          ]
        }
      ],
      "source": [
        "# Different training and testing sizes\n",
        "splits = [0.6, 0.7, 0.8, 0.9]\n",
        "\n",
        "for split in splits:\n",
        "    # Split the dataset\n",
        "    train_size = int(split * len(X_train))\n",
        "    X_train_split, y_train_split = X_train[:train_size], y_train[:train_size]\n",
        "    X_test_split, y_test_split = X_train[train_size:], y_train[train_size:]\n",
        "\n",
        "    # Build the model\n",
        "    model = Sequential([\n",
        "        Flatten(input_shape=(28, 28)),\n",
        "        Dense(128, activation=\"relu\"),\n",
        "        Dense(10, activation=\"softmax\")\n",
        "    ])\n",
        "\n",
        "    # Compile the model\n",
        "    model.compile(optimizer=Adam(), loss=\"categorical_crossentropy\", metrics=[\"accuracy\"])\n",
        "\n",
        "    # Train and measure time\n",
        "    start_time = time()\n",
        "    history = model.fit(X_train_split, y_train_split, epochs=10, batch_size=32, verbose=0)\n",
        "    end_time = time()\n",
        "\n",
        "    # Evaluate the model\n",
        "    train_acc = history.history[\"accuracy\"][-1]\n",
        "    test_acc = model.evaluate(X_test_split, y_test_split, verbose=0)[1]\n",
        "\n",
        "    # Print results\n",
        "    print(f\"Train-Test Split: {int(split*100)}-{int((1-split)*100)}\")\n",
        "    print(f\"Train Accuracy: {train_acc:.4f}, Test Accuracy: {test_acc:.4f}\")\n",
        "    print(f\"Training Time: {end_time - start_time:.2f} seconds\")\n",
        "    print(\"-\" * 40)"
      ]
    },
    {
      "cell_type": "code",
      "execution_count": null,
      "metadata": {
        "id": "Yyao9apr-sDE",
        "colab": {
          "base_uri": "https://localhost:8080/"
        },
        "outputId": "8123950b-d189-453c-b56d-0490d61a5349"
      },
      "outputs": [
        {
          "output_type": "stream",
          "name": "stdout",
          "text": [
            "Activation: sigmoid\n",
            "10 Epochs -> Train Accuracy: 0.9850, Test Accuracy: 0.9715\n",
            "30 Epochs -> Train Accuracy: 0.9976, Test Accuracy: 0.9715\n",
            "Training Time (10 Epochs): 45.25 seconds\n",
            "Training Time (30 Epochs): 130.79 seconds\n",
            "----------------------------------------\n",
            "Activation: tanh\n",
            "10 Epochs -> Train Accuracy: 0.9899, Test Accuracy: 0.9720\n",
            "30 Epochs -> Train Accuracy: 0.9964, Test Accuracy: 0.9720\n",
            "Training Time (10 Epochs): 40.40 seconds\n",
            "Training Time (30 Epochs): 116.94 seconds\n",
            "----------------------------------------\n",
            "Activation: relu\n",
            "10 Epochs -> Train Accuracy: 0.9889, Test Accuracy: 0.9783\n",
            "30 Epochs -> Train Accuracy: 0.9969, Test Accuracy: 0.9783\n",
            "Training Time (10 Epochs): 45.18 seconds\n",
            "Training Time (30 Epochs): 126.17 seconds\n",
            "----------------------------------------\n",
            "Activation Combination: ['sigmoid', 'relu', 'tanh']\n",
            "Train Accuracy: 0.9807, Test Accuracy: 0.9703\n",
            "Training Time: 43.93 seconds\n",
            "----------------------------------------\n",
            "Activation Combination: ['tanh', 'sigmoid', 'relu']\n",
            "Train Accuracy: 0.9803, Test Accuracy: 0.9627\n",
            "Training Time: 34.96 seconds\n",
            "----------------------------------------\n",
            "Activation Combination: ['relu', 'relu', 'relu']\n",
            "Train Accuracy: 0.9808, Test Accuracy: 0.9716\n",
            "Training Time: 34.72 seconds\n",
            "----------------------------------------\n"
          ]
        }
      ],
      "source": [
        "# Activation functions to test\n",
        "activations = [\"sigmoid\", \"tanh\", \"relu\"]\n",
        "\n",
        "for activation in activations:\n",
        "    # Build the model\n",
        "    model = Sequential([\n",
        "        Flatten(input_shape=(28, 28)),\n",
        "        Dense(64, activation=activation),\n",
        "        Dense(64, activation=activation),\n",
        "        Dense(64, activation=activation),\n",
        "        Dense(64, activation=activation),\n",
        "        Dense(10, activation=\"softmax\")\n",
        "    ])\n",
        "\n",
        "    # Compile the model\n",
        "    model.compile(optimizer=Adam(), loss=\"categorical_crossentropy\", metrics=[\"accuracy\"])\n",
        "\n",
        "    # Train for 10 epochs\n",
        "    start_time_10 = time()\n",
        "    history_10 = model.fit(X_train, y_train, epochs=10, batch_size=32, verbose=0)\n",
        "    end_time_10 = time()\n",
        "\n",
        "    # Train for 30 epochs\n",
        "    start_time_30 = time()\n",
        "    history_30 = model.fit(X_train, y_train, epochs=30, batch_size=32, verbose=0)\n",
        "    end_time_30 = time()\n",
        "\n",
        "    # Evaluate\n",
        "    train_acc_10 = history_10.history[\"accuracy\"][-1]\n",
        "    test_acc_10 = model.evaluate(X_test, y_test, verbose=0)[1]\n",
        "    train_acc_30 = history_30.history[\"accuracy\"][-1]\n",
        "    test_acc_30 = model.evaluate(X_test, y_test, verbose=0)[1]\n",
        "\n",
        "    # Print results\n",
        "    print(f\"Activation: {activation}\")\n",
        "    print(f\"10 Epochs -> Train Accuracy: {train_acc_10:.4f}, Test Accuracy: {test_acc_10:.4f}\")\n",
        "    print(f\"30 Epochs -> Train Accuracy: {train_acc_30:.4f}, Test Accuracy: {test_acc_30:.4f}\")\n",
        "    print(f\"Training Time (10 Epochs): {end_time_10 - start_time_10:.2f} seconds\")\n",
        "    print(f\"Training Time (30 Epochs): {end_time_30 - start_time_30:.2f} seconds\")\n",
        "    print(\"-\" * 40)\n",
        " # Activation combinations\n",
        "combinations = [\n",
        "    [\"sigmoid\", \"relu\", \"tanh\"],\n",
        "    [\"tanh\", \"sigmoid\", \"relu\"],\n",
        "    [\"relu\", \"relu\", \"relu\"]\n",
        "]\n",
        "\n",
        "for combo in combinations:\n",
        "    # Build the model\n",
        "    model = Sequential([\n",
        "        Flatten(input_shape=(28, 28)),\n",
        "        Dense(32, activation=combo[0]),bvvvvvvvvvvvvvvvc\n",
        "        Dense(32, activation=combo[1]),\n",
        "        Dense(32, activation=combo[2]),\n",
        "        Dense(10, activation=\"softmax\")\n",
        "    ])\n",
        "\n",
        "    # Compile the model\n",
        "    model.compile(optimizer=Adam(), loss=\"categorical_crossentropy\", metrics=[\"accuracy\"])\n",
        "\n",
        "    # Train the model\n",
        "    start_time = time()\n",
        "    history = model.fit(X_train, y_train, epochs=10, batch_size=32, verbose=0)\n",
        "    end_time = time()\n",
        "\n",
        "    # Evaluate the model\n",
        "    train_acc = history.history[\"accuracy\"][-1]\n",
        "    test_acc = model.evaluate(X_test, y_test, verbose=0)[1]\n",
        "\n",
        "    # Print results\n",
        "    print(f\"Activation Combination: {combo}\")\n",
        "    print(f\"Train Accuracy: {train_acc:.4f}, Test Accuracy: {test_acc:.4f}\")\n",
        "    print(f\"Training Time: {end_time - start_time:.2f} seconds\")\n",
        "    print(\"-\" * 40)"
      ]
    },
    {
      "cell_type": "code",
      "execution_count": null,
      "metadata": {
        "id": "KbtYkfCh-sF6"
      },
      "outputs": [],
      "source": []
    },
    {
      "cell_type": "code",
      "execution_count": null,
      "metadata": {
        "id": "5I92JtiM-sIT"
      },
      "outputs": [],
      "source": []
    },
    {
      "cell_type": "code",
      "execution_count": null,
      "metadata": {
        "id": "skcZJiUd-sLE"
      },
      "outputs": [],
      "source": []
    },
    {
      "cell_type": "code",
      "execution_count": null,
      "metadata": {
        "id": "8v1UhQgv-sNm"
      },
      "outputs": [],
      "source": []
    },
    {
      "cell_type": "code",
      "execution_count": null,
      "metadata": {
        "id": "nUkals_u-sQR"
      },
      "outputs": [],
      "source": []
    },
    {
      "cell_type": "code",
      "execution_count": null,
      "metadata": {
        "id": "iY8F6MZq-sSq"
      },
      "outputs": [],
      "source": []
    },
    {
      "cell_type": "code",
      "execution_count": null,
      "metadata": {
        "id": "rgx-ZZ46-sVa"
      },
      "outputs": [],
      "source": []
    },
    {
      "cell_type": "code",
      "execution_count": null,
      "metadata": {
        "id": "g55hiB0C-sYz"
      },
      "outputs": [],
      "source": []
    },
    {
      "cell_type": "code",
      "execution_count": null,
      "metadata": {
        "id": "NkomyoGQ7ypc"
      },
      "outputs": [],
      "source": []
    }
  ],
  "metadata": {
    "accelerator": "GPU",
    "colab": {
      "gpuType": "T4",
      "provenance": [],
      "authorship_tag": "ABX9TyOTM+j4y/i7MsH5NC1/+rEp",
      "include_colab_link": true
    },
    "kernelspec": {
      "display_name": "Python 3",
      "name": "python3"
    },
    "language_info": {
      "name": "python"
    }
  },
  "nbformat": 4,
  "nbformat_minor": 0
}